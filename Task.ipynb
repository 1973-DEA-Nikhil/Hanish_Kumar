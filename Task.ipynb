{
 "cells": [
  {
   "cell_type": "code",
   "execution_count": 1,
   "id": "82abf513-7355-43a6-ae96-a9ff657b1443",
   "metadata": {},
   "outputs": [
    {
     "name": "stdout",
     "output_type": "stream",
     "text": [
      "700\n"
     ]
    }
   ],
   "source": [
    "# 1.Find the 2nd maximum value in a list without using any in-built function\n",
    "\n",
    "numbers = [23, 45, 78, 100, 3, -3, 700, 8, 9000]\n",
    "\n",
    "first_max = float('-inf')\n",
    "for n in numbers:\n",
    "    if n > first_max:\n",
    "        first_max = n\n",
    "\n",
    "second_max = float('-inf')\n",
    "for n in numbers:\n",
    "    if n > second_max and n != first_max:\n",
    "        second_max = n\n",
    "\n",
    "print(second_max)\n"
   ]
  },
  {
   "cell_type": "code",
   "execution_count": 3,
   "id": "3743f821-bcd8-4674-b8c0-4a3176e8f781",
   "metadata": {},
   "outputs": [
    {
     "name": "stdout",
     "output_type": "stream",
     "text": [
      "[9000, 8, 700, -3, 3, 100, 78, 45, 23]\n"
     ]
    }
   ],
   "source": [
    "# 2.Reverse a list without using any in-built function or slicing\n",
    "\n",
    "nums = [23, 45, 78, 100, 3, -3, 700, 8, 9000]\n",
    "rev_num = []\n",
    "\n",
    "for i in range(1, len(nums)+1):\n",
    "    rev_num.append(nums[-i])\n",
    "\n",
    "print(rev_num)\n"
   ]
  },
  {
   "cell_type": "code",
   "execution_count": 4,
   "id": "14ace134-138f-4e87-a978-7724224da1ac",
   "metadata": {},
   "outputs": [
    {
     "name": "stdout",
     "output_type": "stream",
     "text": [
      "[-3, 3, 8, 23, 45, 78, 100, 700, 9000]\n"
     ]
    }
   ],
   "source": [
    "# 3.Sort the list without using any function\n",
    "\n",
    "nums = [23, 45, 78, 100, 3, -3, 700, 8, 9000]\n",
    "\n",
    "for i in range(len(nums)):\n",
    "    for j in range(i+1, len(nums)):\n",
    "        if nums[i] > nums[j]:\n",
    "            nums[i], nums[j] = nums[j], nums[i]\n",
    "\n",
    "print(nums)\n"
   ]
  },
  {
   "cell_type": "code",
   "execution_count": 5,
   "id": "66315d9b-7d7f-42d9-b189-013e94977ace",
   "metadata": {},
   "outputs": [
    {
     "name": "stdout",
     "output_type": "stream",
     "text": [
      "madam is a palindrome: True\n"
     ]
    }
   ],
   "source": [
    "# 4.Check if a string is a palindrome\n",
    "\n",
    "def is_palindrome(string):\n",
    "    reversed_string = string[::-1]\n",
    "    return string == reversed_string\n",
    "\n",
    "# Test the function\n",
    "word = \"madam\"\n",
    "print(f\"{word} is a palindrome: {is_palindrome(word)}\")\n"
   ]
  },
  {
   "cell_type": "code",
   "execution_count": 6,
   "id": "b43aac64-3017-4acc-9498-bd16abe34fa1",
   "metadata": {},
   "outputs": [
    {
     "name": "stdout",
     "output_type": "stream",
     "text": [
      "The factorial of 5 is 120\n"
     ]
    }
   ],
   "source": [
    "# 5.Find the factorial of a number\n",
    "\n",
    "def factorial(n):\n",
    "    if n == 0:\n",
    "        return 1\n",
    "    else:\n",
    "        return n * factorial(n-1)\n",
    "\n",
    "# Test the function\n",
    "number = 5\n",
    "result = factorial(number)\n",
    "print(f\"The factorial of {number} is {result}\")\n"
   ]
  },
  {
   "cell_type": "code",
   "execution_count": 7,
   "id": "aadce34f-3c29-49e3-b6f7-6f14a5646781",
   "metadata": {},
   "outputs": [
    {
     "name": "stdout",
     "output_type": "stream",
     "text": [
      "The largest number is 20\n"
     ]
    }
   ],
   "source": [
    "# 6.Find the largest element in a list\n",
    "\n",
    "def find_largest(numbers):\n",
    "    largest = numbers[0]\n",
    "    for num in numbers:\n",
    "        if num > largest:\n",
    "            largest = num\n",
    "    return largest\n",
    "\n",
    "# Test the function\n",
    "nums = [10, 5, 8, 20, 3]\n",
    "largest_num = find_largest(nums)\n",
    "print(f\"The largest number is {largest_num}\")\n"
   ]
  },
  {
   "cell_type": "code",
   "execution_count": 8,
   "id": "ad4a01db-deff-4a42-a96f-38a0b9a6cbdd",
   "metadata": {},
   "outputs": [
    {
     "name": "stdout",
     "output_type": "stream",
     "text": [
      "!dlroW ,olleH\n"
     ]
    }
   ],
   "source": [
    "# 7.Reverse a string\n",
    "\n",
    "def reverse_string(string):\n",
    "    return string[::-1]\n",
    "\n",
    "# Test the function\n",
    "text = \"Hello, World!\"\n",
    "reversed_text = reverse_string(text)\n",
    "print(reversed_text)\n"
   ]
  },
  {
   "cell_type": "code",
   "execution_count": 9,
   "id": "0ae88004-ed0d-4358-a220-86eb7b837acf",
   "metadata": {},
   "outputs": [
    {
     "name": "stdout",
     "output_type": "stream",
     "text": [
      "{1: 2, 2: 3, 3: 2, 4: 2, 5: 1}\n"
     ]
    }
   ],
   "source": [
    "# 8.Count the frequency of each element in a list\n",
    "\n",
    "def count_frequency(numbers):\n",
    "    frequency = {}\n",
    "    for num in numbers:\n",
    "        if num in frequency:\n",
    "            frequency[num] += 1\n",
    "        else:\n",
    "            frequency[num] = 1\n",
    "    return frequency\n",
    "\n",
    "# Test the function\n",
    "nums = [1, 2, 3, 2, 1, 3, 2, 4, 5, 4]\n",
    "frequency_count = count_frequency(nums)\n",
    "print(frequency_count)\n"
   ]
  },
  {
   "cell_type": "code",
   "execution_count": 10,
   "id": "a21b7865-0fb0-4c4e-ac1e-94bdd9c5ef3d",
   "metadata": {},
   "outputs": [
    {
     "name": "stdout",
     "output_type": "stream",
     "text": [
      "17 is a prime number: True\n"
     ]
    }
   ],
   "source": [
    "# 9.def is_prime(number)\n",
    "\n",
    "def is_prime(number):\n",
    "    if number < 2:\n",
    "        return False\n",
    "    for i in range(2, int(number**0.5) + 1):\n",
    "        if number % i == 0:\n",
    "            return False\n",
    "    return True\n",
    "\n",
    "# Test the function\n",
    "num = 17\n",
    "print(f\"{num} is a prime number: {is_prime(num)}\")\n",
    "\n"
   ]
  },
  {
   "cell_type": "code",
   "execution_count": 11,
   "id": "dc9ea392-b1f9-4884-9aaf-03267ac72caa",
   "metadata": {},
   "outputs": [
    {
     "name": "stdout",
     "output_type": "stream",
     "text": [
      "[4, 5]\n"
     ]
    }
   ],
   "source": [
    "# 10.Find the common elements between two lists\n",
    "\n",
    "def find_common_elements(list1, list2):\n",
    "    common_elements = [item for item in list1 if item in list2]\n",
    "    return common_elements\n",
    "\n",
    "# Test the function\n",
    "list_a = [1, 2, 3, 4, 5]\n",
    "list_b = [4, 5, 6, 7, 8]\n",
    "common = find_common_elements(list_a, list_b)\n",
    "print(common)\n"
   ]
  },
  {
   "cell_type": "code",
   "execution_count": 12,
   "id": "b990b946-eb19-4cf6-af82-ea75ec0a399d",
   "metadata": {},
   "outputs": [
    {
     "name": "stdout",
     "output_type": "stream",
     "text": [
      "The second largest number is 10\n"
     ]
    }
   ],
   "source": [
    "# 11.Find the second largest number in a list\n",
    "\n",
    "def find_second_largest(numbers):\n",
    "    largest = float('-inf')\n",
    "    second_largest = float('-inf')\n",
    "    for num in numbers:\n",
    "        if num > largest:\n",
    "            second_largest = largest\n",
    "            largest = num\n",
    "        elif num > second_largest and num != largest:\n",
    "            second_largest = num\n",
    "    return second_largest\n",
    "\n",
    "# Test the function\n",
    "nums = [10, 5, 8, 20, 3]\n",
    "second_largest_num = find_second_largest(nums)\n",
    "print(f\"The second largest number is {second_largest_num}\")"
   ]
  },
  {
   "cell_type": "code",
   "execution_count": 13,
   "id": "a9b4e46f-571a-41ac-8e8a-fead36035937",
   "metadata": {},
   "outputs": [
    {
     "name": "stdout",
     "output_type": "stream",
     "text": [
      "[1, 2, 3, 4, 5]\n"
     ]
    }
   ],
   "source": [
    "# 12.Remove duplicates from a list\n",
    "\n",
    "def remove_duplicates(numbers):\n",
    "    unique_numbers = []\n",
    "    for num in numbers:\n",
    "        if num not in unique_numbers:\n",
    "            unique_numbers.append(num)\n",
    "    return unique_numbers\n",
    "\n",
    "# Test the function\n",
    "nums = [1, 2, 3, 2, 1, 3, 2, 4, 5, 4]\n",
    "unique_nums = remove_duplicates(nums)\n",
    "print(unique_nums)\n"
   ]
  },
  {
   "cell_type": "code",
   "execution_count": 14,
   "id": "dfa71f7e-4d7c-4521-95c2-62c9f080e4d6",
   "metadata": {},
   "outputs": [
    {
     "name": "stdout",
     "output_type": "stream",
     "text": [
      "Missing number: 3\n"
     ]
    }
   ],
   "source": [
    "# 13.Find missing number in list\n",
    "\n",
    "def find_missing_number(nums):\n",
    "    n = len(nums) + 1\n",
    "    expected_sum = n * (n + 1) // 2\n",
    "    actual_sum = sum(nums)\n",
    "    return expected_sum - actual_sum\n",
    "\n",
    "# Test the function\n",
    "nums = [1, 2, 4, 5, 6]\n",
    "print(f\"Missing number: {find_missing_number(nums)}\")\n"
   ]
  },
  {
   "cell_type": "code",
   "execution_count": 17,
   "id": "265a6cfa-f092-4e05-9053-4b32ec7339bd",
   "metadata": {},
   "outputs": [
    {
     "name": "stdout",
     "output_type": "stream",
     "text": [
      "Index of second 'apple': 3\n"
     ]
    }
   ],
   "source": [
    "# 14.Find the second occurrence of an element in a list\n",
    "\n",
    "def find_second_occurrence(lst, item):\n",
    "    first_index = lst.index(item)\n",
    "    return lst.index(item, first_index + 1)\n",
    "\n",
    "# Test the function\n",
    "fruits = ['apple', 'banana', 'cherry', 'apple']\n",
    "print(f\"Index of second 'apple': {find_second_occurrence(fruits, 'apple')}\")\n"
   ]
  },
  {
   "cell_type": "code",
   "execution_count": 19,
   "id": "55f78903-c452-4e70-b13e-25101ca9ed41",
   "metadata": {},
   "outputs": [
    {
     "name": "stdout",
     "output_type": "stream",
     "text": [
      "Positive of -5: 5\n"
     ]
    }
   ],
   "source": [
    "# 15.Convert negative number into positive\n",
    "\n",
    "def to_positive(num):\n",
    "    return abs(num)\n",
    "\n",
    "# Test the function\n",
    "print(f\"Positive of -5: {to_positive(-5)}\")\n"
   ]
  },
  {
   "cell_type": "code",
   "execution_count": 20,
   "id": "635e3d3d-2de0-464a-bba3-171849d46423",
   "metadata": {},
   "outputs": [
    {
     "name": "stdout",
     "output_type": "stream",
     "text": [
      "Occurrences of 'p' in 'python': 1\n"
     ]
    }
   ],
   "source": [
    "# 16.Count the number of occurrences of a character in a string\n",
    "\n",
    "def count_occurrences(word, char):\n",
    "    return word.count(char)\n",
    "\n",
    "# Test the function\n",
    "word = \"python\"\n",
    "char = \"p\"\n",
    "print(f\"Occurrences of '{char}' in '{word}': {count_occurrences(word, char)}\")\n"
   ]
  },
  {
   "cell_type": "code",
   "execution_count": 21,
   "id": "db9c1de0-c890-4f65-8ec5-951155b15689",
   "metadata": {},
   "outputs": [
    {
     "name": "stdout",
     "output_type": "stream",
     "text": [
      "Maximum number: 125\n"
     ]
    }
   ],
   "source": [
    "# 17.Find the maximum number in a list\n",
    "\n",
    "def find_max_number(numbers):\n",
    "    max_num = numbers[0]\n",
    "    for num in numbers:\n",
    "        if num > max_num:\n",
    "            max_num = num\n",
    "    return max_num\n",
    "\n",
    "# Test the function\n",
    "numberList = [15, 85, 35, 89, 125]\n",
    "print(f\"Maximum number: {find_max_number(numberList)}\")\n"
   ]
  },
  {
   "cell_type": "code",
   "execution_count": 22,
   "id": "df2f9f7e-cbc5-41aa-ad76-3288df0f4b63",
   "metadata": {},
   "outputs": [
    {
     "name": "stdout",
     "output_type": "stream",
     "text": [
      "Number of vowels in 'programming': 3\n"
     ]
    }
   ],
   "source": [
    "# 18.Count vowels in a given word\n",
    "\n",
    "def count_vowels(word):\n",
    "    vowels = \"aeiou\"\n",
    "    count = 0\n",
    "    for char in word:\n",
    "        if char in vowels:\n",
    "            count += 1\n",
    "    return count\n",
    "\n",
    "# Test the function\n",
    "word = \"programming\"\n",
    "print(f\"Number of vowels in '{word}': {count_vowels(word)}\")\n"
   ]
  },
  {
   "cell_type": "code",
   "execution_count": 23,
   "id": "a79159e7-564e-484e-9020-99ecdf74ee85",
   "metadata": {},
   "outputs": [
    {
     "name": "stdout",
     "output_type": "stream",
     "text": [
      "gnimmargorP nohtyP\n"
     ]
    }
   ],
   "source": [
    "# 19.Reverse a string using an extended slicing technique\n",
    "\n",
    "string = \"Python Programming\"\n",
    "reversed_string = string[::-1]\n",
    "print(reversed_string)\n"
   ]
  },
  {
   "cell_type": "code",
   "execution_count": 24,
   "id": "12bcab4c-5615-4437-a436-ffafc08a6edc",
   "metadata": {},
   "outputs": [
    {
     "name": "stdout",
     "output_type": "stream",
     "text": [
      "'listen' and 'silent' are anagrams: True\n"
     ]
    }
   ],
   "source": [
    "# 20.Check if two strings are anagrams\n",
    "\n",
    "def are_anagrams(str1, str2):\n",
    "    return sorted(str1) == sorted(str2)\n",
    "\n",
    "# Test the function\n",
    "str1 = \"listen\"\n",
    "str2 = \"silent\"\n",
    "print(f\"'{str1}' and '{str2}' are anagrams: {are_anagrams(str1, str2)}\")\n"
   ]
  },
  {
   "cell_type": "code",
   "execution_count": null,
   "id": "6d977754-d92e-46ec-8935-e718d33f47e0",
   "metadata": {},
   "outputs": [],
   "source": []
  }
 ],
 "metadata": {
  "kernelspec": {
   "display_name": "PySpark 3.3.1",
   "language": "python",
   "name": "pyspark3.3.1"
  },
  "language_info": {
   "codemirror_mode": {
    "name": "ipython",
    "version": 3
   },
   "file_extension": ".py",
   "mimetype": "text/x-python",
   "name": "python",
   "nbconvert_exporter": "python",
   "pygments_lexer": "ipython3",
   "version": "3.10.1"
  }
 },
 "nbformat": 4,
 "nbformat_minor": 5
}
